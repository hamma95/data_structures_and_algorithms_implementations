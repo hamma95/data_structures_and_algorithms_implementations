{
 "cells": [
  {
   "cell_type": "code",
   "execution_count": null,
   "metadata": {},
   "outputs": [],
   "source": [
    "class HeapPriorityQueue:\n",
    "    def __init__(self, arr):\n",
    "        self.h_size, self.arr = 0, arr\n",
    "        \n",
    "    def insert(self):\n",
    "        if self.h_size >= len(self.arr):\n",
    "            raise IndexError('insert into full priority queue')\n",
    "        self.h_size += 1\n",
    "        self.max_heapify_up(self.h_size - 1)\n",
    "        \n",
    "    def max_heapify_up(self, i):\n",
    "        parent = (i-1) // 2\n",
    "        while i > 0 and self.arr[i] > self.arr[parent]:\n",
    "            self.arr[i], self.arr[parent] = self.arr[parent], self.arr[i]\n",
    "            i = parent\n",
    "            parent = (i-1) // 2\n",
    "            \n",
    "    def max_heapify_down(self, i):\n",
    "        left = 2 * i + 1 if 2 * i + 1 < self.h_size else i\n",
    "        right = 2 * i + 2 if 2 * i + 2 < self.h_size else i\n",
    "        largest = left if self.arr[left] > self.arr[right] else right\n",
    "        if self.arr[i] < self.arr[largest]:\n",
    "            self.arr[i], self.arr[largest] = self.arr[largest], self.arr[i]\n",
    "            self.max_heapify_down(largest)\n",
    "            \n",
    "    def extract_max(self):\n",
    "        if self.h_size <= 0:\n",
    "            raise Exception('try to pop from empty queue')\n",
    "        self.arr[0], self.arr[self.h_size-1] = self.arr[self.h_size-1], self.arr[0]\n",
    "        self.h_size -= 1\n",
    "        self.max_heapify_down(0)\n",
    "        return self.arr[self.h_size]\n",
    "        \n",
    "    def maximum(self):\n",
    "        return self.arr[self.h_size - 1]\n",
    "    \n",
    "    def increase_key(self, i, key):\n",
    "        if key < self.arr[i]:\n",
    "            raise Execption(\"new key less than the current\")\n",
    "        self.arr[i] = key\n",
    "        self.max_heapify_up(i)\n",
    "    \n",
    "    def sort(self):\n",
    "        for i in range(len(self.arr)):\n",
    "            self.insert()\n",
    "        for i in range(1, len(self.arr)):\n",
    "            print(self.extract_max())\n",
    "       "
   ]
  }
 ],
 "metadata": {
  "kernelspec": {
   "display_name": "Python 3",
   "language": "python",
   "name": "python3"
  },
  "language_info": {
   "codemirror_mode": {
    "name": "ipython",
    "version": 3
   },
   "file_extension": ".py",
   "mimetype": "text/x-python",
   "name": "python",
   "nbconvert_exporter": "python",
   "pygments_lexer": "ipython3",
   "version": "3.8.3"
  }
 },
 "nbformat": 4,
 "nbformat_minor": 4
}
