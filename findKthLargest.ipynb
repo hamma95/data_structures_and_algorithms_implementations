{
 "cells": [
  {
   "cell_type": "code",
   "execution_count": 3,
   "metadata": {},
   "outputs": [],
   "source": [
    "    def randomized_partition(arr, start, end):\n",
    "        lt_pivot, gt_pivot = start, end\n",
    "        i = start\n",
    "        while i <= gt_pivot:\n",
    "            if arr[i] < arr[lt_pivot]:\n",
    "                arr[i], arr[lt_pivot] = arr[lt_pivot], arr[i]\n",
    "                lt_pivot += 1\n",
    "                i += 1\n",
    "            elif arr[i] > arr[lt_pivot]:\n",
    "                arr[i], arr[gt_pivot] = arr[gt_pivot], arr[i]\n",
    "                gt_pivot -= 1\n",
    "            else: \n",
    "                i += 1\n",
    "        return lt_pivot, gt_pivot"
   ]
  },
  {
   "cell_type": "code",
   "execution_count": 4,
   "metadata": {},
   "outputs": [],
   "source": [
    "from random import shuffle\n",
    "\n",
    "def findKthLargest(self, nums, k):    \n",
    "    shuffle(nums)\n",
    "    start, end = 0, len(nums) - 1\n",
    "    k = len(nums) - k\n",
    "    while start < end:\n",
    "        lt_pivot, gt_pivot = randomized_partition(nums, start, end)\n",
    "        if lt_pivot < k:\n",
    "            start = gt_pivot + 1\n",
    "        elif lt_pivot > k:\n",
    "            end = lt_pivot - 1\n",
    "        else:\n",
    "            return nums[k]\n",
    "    return nums[k]\n"
   ]
  },
  {
   "cell_type": "code",
   "execution_count": null,
   "metadata": {},
   "outputs": [],
   "source": []
  }
 ],
 "metadata": {
  "kernelspec": {
   "display_name": "Python 3",
   "language": "python",
   "name": "python3"
  },
  "language_info": {
   "codemirror_mode": {
    "name": "ipython",
    "version": 3
   },
   "file_extension": ".py",
   "mimetype": "text/x-python",
   "name": "python",
   "nbconvert_exporter": "python",
   "pygments_lexer": "ipython3",
   "version": "3.8.3"
  }
 },
 "nbformat": 4,
 "nbformat_minor": 4
}
