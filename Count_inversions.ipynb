{
 "cells": [
  {
   "cell_type": "code",
   "execution_count": 1,
   "metadata": {},
   "outputs": [],
   "source": [
    "def count_inversions(arr):\n",
    "    if len(arr) <= 1:\n",
    "        return 0, arr\n",
    "    mid = len(arr) // 2\n",
    "    left_inv, left_arr = count_inversions(arr[:mid])\n",
    "    right_inv, right_arr = count_inversions(arr[mid:])\n",
    "    split_inv = count_split_inv(left_arr, right_arr)\n",
    "    return left_inv + right_inv + split_inv, \n",
    "\n",
    "def count_split_inv(left, right):\n",
    "    i = j = 0\n",
    "    split_inv = 0\n",
    "    while i < len(left) and j < len(right):\n",
    "        if left[i] <= right[j]:\n",
    "            i += 1\n",
    "        else:\n",
    "            split_inv += len(left[i:])\n",
    "            j+=1\n",
    "    return split_inv\n"
   ]
  },
  {
   "cell_type": "code",
   "execution_count": null,
   "metadata": {},
   "outputs": [],
   "source": []
  }
 ],
 "metadata": {
  "kernelspec": {
   "display_name": "Python 3",
   "language": "python",
   "name": "python3"
  },
  "language_info": {
   "codemirror_mode": {
    "name": "ipython",
    "version": 3
   },
   "file_extension": ".py",
   "mimetype": "text/x-python",
   "name": "python",
   "nbconvert_exporter": "python",
   "pygments_lexer": "ipython3",
   "version": "3.8.3"
  }
 },
 "nbformat": 4,
 "nbformat_minor": 4
}
