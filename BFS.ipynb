{
 "cells": [
  {
   "cell_type": "markdown",
   "metadata": {},
   "source": [
    "### Adjacency list"
   ]
  },
  {
   "cell_type": "code",
   "execution_count": 1,
   "metadata": {},
   "outputs": [],
   "source": [
    "from collections import deque\n",
    "\n",
    "class BFSResult:\n",
    "    def __init__(self):\n",
    "        self.level = {}\n",
    "        self.parent = {}\n",
    "\n",
    "class Graph:\n",
    "    def __init__(self):\n",
    "        self.adj = {}\n",
    "\n",
    "    def add_edge(self, u, v):\n",
    "        if self.adj[u] is None:\n",
    "            self.adj[u] = []\n",
    "            self.adj[u].append(v)\n"
   ]
  },
  {
   "cell_type": "markdown",
   "metadata": {},
   "source": [
    "### Queue based BFS"
   ]
  },
  {
   "cell_type": "code",
   "execution_count": 2,
   "metadata": {},
   "outputs": [],
   "source": [
    "def bfs(g, s):\n",
    "    \"\"\"\n",
    "    Queue-based implementation of BFS.\n",
    "\n",
    "    Args:\n",
    "    g: a graph with adjacency list adj such that g.adj[u] is a list of u’s\n",
    "    neighbors.\n",
    "    s: source.\n",
    "    \"\"\"\n",
    "    r = BFSResult()\n",
    "    r.parent = {s: None}\n",
    "    r.level = {s: 0}\n",
    "\n",
    "    queue = deque()\n",
    "    queue.append(s)\n",
    "\n",
    "    while queue:\n",
    "        u = queue.popleft()\n",
    "        for n in g.adj[u]:\n",
    "            if n not in r.level:\n",
    "                r.parent[n] = u\n",
    "                r.level[n] = r.level[u] + 1\n",
    "                queue.append(n)\n",
    "        return r"
   ]
  },
  {
   "cell_type": "markdown",
   "metadata": {},
   "source": [
    "### Other implementation"
   ]
  },
  {
   "cell_type": "code",
   "execution_count": 4,
   "metadata": {},
   "outputs": [],
   "source": [
    "def bfs(Adj, s):  # Adj: adjacency list, s: starting vertex\n",
    "    parent = [None for v in Adj] # O(V) (use hash if unlabeled)\n",
    "    parent[s] = s  # O(1) root\n",
    "    level = [[s]]  # O(1) initialize levels\n",
    "    while level[-1]:  # O(?) last level contains vertices\n",
    "        level.append([])  # O(1) amortized, make new level\n",
    "        for u in level[-2]:  # O(?) loop over last full level\n",
    "            for v in Adj[u]:  # O(Adj[u]) loop over neighbors\n",
    "                if parent[v] is None:  # O(1) parent not yet assigned\n",
    "                    parent[v] = u  # O(1) assign parent from level[-2]\n",
    "                    level[-1].append(v)  # O(1) amortized, add to border\n",
    "    return parent"
   ]
  },
  {
   "cell_type": "code",
   "execution_count": null,
   "metadata": {},
   "outputs": [],
   "source": []
  }
 ],
 "metadata": {
  "kernelspec": {
   "display_name": "Python 3",
   "language": "python",
   "name": "python3"
  },
  "language_info": {
   "codemirror_mode": {
    "name": "ipython",
    "version": 3
   },
   "file_extension": ".py",
   "mimetype": "text/x-python",
   "name": "python",
   "nbconvert_exporter": "python",
   "pygments_lexer": "ipython3",
   "version": "3.8.5"
  }
 },
 "nbformat": 4,
 "nbformat_minor": 4
}
