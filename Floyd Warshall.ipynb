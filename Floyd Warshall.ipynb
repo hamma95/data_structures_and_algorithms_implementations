{
 "cells": [
  {
   "cell_type": "markdown",
   "metadata": {},
   "source": [
    "### All pairs shortest paths"
   ]
  },
  {
   "cell_type": "markdown",
   "metadata": {},
   "source": [
    "Floyd warshall is a dynamic programming algorithm. It uses the following recursive structure:\n",
    "\n",
    "\n",
    "`d(x, y, k) = min(d(x, y, k - 1), d(x, k, k - 1) + d(k, y, k - 1))`\n",
    "\n",
    "\n",
    "with **d(x, y, k) being the shortest path between x and y using only nodes from 1 to k in between.**\n",
    "\n",
    "this basically says, let us see if adding node k to the old path (d(x, y, k - 1)) would improve it. \n",
    "\n",
    "the first value in the min is the path without node k, the second insists that node k is included in it, as it goes through k and then from k to y.\n",
    "\n"
   ]
  },
  {
   "cell_type": "code",
   "execution_count": 1,
   "metadata": {},
   "outputs": [],
   "source": [
    "def floyd_warshall(adj_matrix):\n",
    "    n = len(adj_matrix)\n",
    "    d = adj_matrix\n",
    "\n",
    "    for k in range(0, n):\n",
    "        for i in range(n):\n",
    "            for j in range(n):\n",
    "                d[i][j] = min(d[i][j], d[i][k] + d[k][j])\n",
    "\n",
    "    return d\n"
   ]
  },
  {
   "cell_type": "markdown",
   "metadata": {},
   "source": [
    "#### Implementation Notes:\n",
    "1. You can't have the k loop on the inside, and i, j on the outside. If so, you can run into uncalculated d(x,k) and d(k,y) values. \n",
    "\n",
    "\n",
    "2. You don't need to keep both dk and dk-1 at each iteration. you can just use one matrix. this means you could be using d(x, k, k) values rather than d(x, k, k - 1) as they get replaced, but they are the same thing since the path will include k either way."
   ]
  }
 ],
 "metadata": {
  "kernelspec": {
   "display_name": "Python 3",
   "language": "python",
   "name": "python3"
  },
  "language_info": {
   "codemirror_mode": {
    "name": "ipython",
    "version": 3
   },
   "file_extension": ".py",
   "mimetype": "text/x-python",
   "name": "python",
   "nbconvert_exporter": "python",
   "pygments_lexer": "ipython3",
   "version": "3.8.5"
  }
 },
 "nbformat": 4,
 "nbformat_minor": 4
}
