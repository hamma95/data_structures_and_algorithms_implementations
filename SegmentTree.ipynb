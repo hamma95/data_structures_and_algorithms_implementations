{
 "cells": [
  {
   "cell_type": "markdown",
   "metadata": {},
   "source": [
    "### Initilize Tree:\n",
    "\n",
    "initilize tree size to 4 times the array length so that the resulting binary tree is balanced."
   ]
  },
  {
   "cell_type": "code",
   "execution_count": 14,
   "metadata": {},
   "outputs": [],
   "source": [
    "arr = [18, 17, 13, 19, 15, 11, 20, 12]\n",
    "t = [None] * 4 * len(arr)     "
   ]
  },
  {
   "cell_type": "markdown",
   "metadata": {},
   "source": [
    "### Build Segment Tree for range min query"
   ]
  },
  {
   "cell_type": "code",
   "execution_count": 15,
   "metadata": {},
   "outputs": [],
   "source": [
    "def left(node):\n",
    "    return 2*node + 1\n",
    "\n",
    "def right(node):\n",
    "    return 2*node + 2\n",
    "\n",
    "def build(arr, node, start, end):\n",
    "    if start == end:\n",
    "        t[node] = arr[start]\n",
    "    else:\n",
    "        mid = (start + end) // 2\n",
    "        build(arr, left(node), start, mid)     \n",
    "        build(arr, right(node), mid + 1, end) \n",
    "        t[node] = min(t[left(node)], t[right(node)])\n"
   ]
  },
  {
   "cell_type": "code",
   "execution_count": 16,
   "metadata": {
    "scrolled": false
   },
   "outputs": [
    {
     "name": "stdout",
     "output_type": "stream",
     "text": [
      "[11, 13, 11, 17, 13, 11, 12, 18, 17, 13, 19, 15, 11, 20, 12, None, None, None, None, None, None, None, None, None, None, None, None, None, None, None, None, None]\n"
     ]
    }
   ],
   "source": [
    "build(arr, 0, 0, 7)\n",
    "print(t)"
   ]
  },
  {
   "cell_type": "markdown",
   "metadata": {},
   "source": [
    "### Range min query"
   ]
  },
  {
   "cell_type": "code",
   "execution_count": 41,
   "metadata": {},
   "outputs": [],
   "source": [
    "def range_minimum_query(node, segx, segy, qx, qy):\n",
    "    '''\n",
    "    returns the minimum number in range(qx,qy)\n",
    "    segx and segy represent the segment index\n",
    "\n",
    "    '''\n",
    "    if qx > segy or qy < segx:      # query COMPLETELY out of range\n",
    "        return float(\"inf\")\n",
    "    elif qx <= segx <= segy <= qy:  # segment range inside of query range\n",
    "        return t[node]\n",
    "    else:\n",
    "        return min(\n",
    "            range_minimum_query(left(node), segx, (segx + segy) // 2, qx, qy),\n",
    "            range_minimum_query(right(node), (segx + segy) // 2 + 1, segy, qx, qy)\n",
    "        )"
   ]
  },
  {
   "cell_type": "code",
   "execution_count": 42,
   "metadata": {
    "scrolled": true
   },
   "outputs": [
    {
     "data": {
      "text/plain": [
       "11"
      ]
     },
     "execution_count": 42,
     "metadata": {},
     "output_type": "execute_result"
    }
   ],
   "source": [
    "range_minimum_query(0, 0, 7, 1, 4)"
   ]
  },
  {
   "cell_type": "markdown",
   "metadata": {},
   "source": [
    "### Update Segment tree\n",
    "\n",
    "update all the elements in range [qx, qy] to val."
   ]
  },
  {
   "cell_type": "code",
   "execution_count": 73,
   "metadata": {},
   "outputs": [],
   "source": [
    "def update(node, segx, segy, qx, qy, val):\n",
    "    if qx > segy or qy < segx:      # query COMPLETELY out of range\n",
    "        return     \n",
    "    elif segx == segy:\n",
    "        t[node] = val\n",
    "    else:\n",
    "        update(left(node), segx, (segx + segy) // 2, qx, qy, val),\n",
    "        update(right(node), (segx + segy) // 2 + 1, segy, qx, qy, val)\n",
    " \n",
    "        t[node] = min(t[left(node)], t[right(node)])"
   ]
  },
  {
   "cell_type": "code",
   "execution_count": 74,
   "metadata": {
    "scrolled": false
   },
   "outputs": [
    {
     "name": "stdout",
     "output_type": "stream",
     "text": [
      "oldtree:  [11, 13, 11, 17, 13, 11, 12, 18, 17, 13, 19, 15, 11, 20, 12, None, None, None, None, None, None, None, None, None, None, None, None, None, None, None, None, None]\n",
      "newtree:  [6, 6, 11, 6, 6, 11, 12, 18, 6, 6, 19, 15, 11, 20, 12, None, None, None, None, None, None, None, None, None, None, None, None, None, None, None, None, None]\n"
     ]
    }
   ],
   "source": [
    "print('oldtree: ', t)\n",
    "update(0, 0, 7, 1, 2, 6)\n",
    "print('newtree: ', t)"
   ]
  },
  {
   "cell_type": "markdown",
   "metadata": {},
   "source": [
    "### Lazy propagation\n",
    "\n",
    "When the problem is dynamic and involves many updates to the tree, we can use lazy propagation to decrease the number of times a node is visited.\n",
    "\n",
    "Lazy propagation involves maintaining a seprate array of the same size as our tree array. Upon visiting a parent node, we update the value of that node only, and store updates for the children in the lazy array. \n",
    "\n",
    "Only when those children are visited in another operation do we consult if the node is lazy (not up to date, the value in it needs correction) and if so correct its value from the lazy array, and lest we forget, propagate the lazy values to its children."
   ]
  },
  {
   "cell_type": "code",
   "execution_count": 7,
   "metadata": {},
   "outputs": [],
   "source": [
    "lazy = [0]*4*len(arr)"
   ]
  },
  {
   "cell_type": "code",
   "execution_count": 11,
   "metadata": {},
   "outputs": [],
   "source": [
    "def lazy_update(node, segx, segy, qx, qy, val):\n",
    "    \n",
    "    #make sure all propagation was done at node, if not\n",
    "    #then update node and mark its children for lazy propagation\n",
    "    \n",
    "    #This needs to be done BEFORE checking for query out of range or not,\n",
    "    #because we will need the updated value when returning for the parent anyway !!!!\n",
    "    if lazy[node]:\n",
    "        t[node] = lazy[node]\n",
    "        if segx != segy:\n",
    "            lazy[left(node)] = lazy[node]\n",
    "            lazy[right(node)] = lazy[node]\n",
    "        lazy[node] = 0\n",
    "        \n",
    "    # query COMPLETELY out of range\n",
    "    if segx > segy or qx > segy or qy < segx:      \n",
    "        return\n",
    "    \n",
    "    # query completely within range \n",
    "    if qx <= segx <= segy <= qy:\n",
    "        t[node] = val\n",
    "        if segx != segy:\n",
    "            lazy[left(node)] = val\n",
    "            lazy[right(node)] = val\n",
    "        \n",
    "    else:\n",
    "        lazy_update(left(node), segx, (segx + segy) // 2, qx, qy, val),\n",
    "        lazy_update(right(node), (segx + segy) // 2 + 1, segy, qx, qy, val)\n",
    " \n",
    "        t[node] = min(t[left(node)], t[right(node)])"
   ]
  },
  {
   "cell_type": "markdown",
   "metadata": {},
   "source": [
    "We need to modify the query function to work with lazy propagation by adding the logic that updates our node if it was lazy:"
   ]
  },
  {
   "cell_type": "code",
   "execution_count": 12,
   "metadata": {},
   "outputs": [],
   "source": [
    "def lazy_range_minimum_query(node, segx, segy, qx, qy):\n",
    "    '''\n",
    "    returns the minimum number in range(qx,qy)\n",
    "    segx and segy represent the segment index\n",
    "\n",
    "    '''\n",
    "    \n",
    "    \n",
    "    if lazy[node]:\n",
    "        t[node] = lazy[node]\n",
    "        if segx != segy:\n",
    "            lazy[left(node)] = lazy[node]\n",
    "            lazy[right(node)] = lazy[node]\n",
    "        lazy[node] = 0\n",
    "\n",
    "    \n",
    "    if qx > segy or qy < segx:      # query COMPLETELY out of range\n",
    "        return float(\"inf\")\n",
    "    elif qx <= segx <= segy <= qy:  # segment range inside of query range\n",
    "        return t[node]\n",
    "    else:\n",
    "        return min(\n",
    "            lazy_range_minimum_query(left(node), segx, (segx + segy) // 2, qx, qy),\n",
    "            lazy_range_minimum_query(right(node), (segx + segy) // 2 + 1, segy, qx, qy)\n",
    "        )\n"
   ]
  },
  {
   "cell_type": "code",
   "execution_count": 21,
   "metadata": {},
   "outputs": [],
   "source": [
    "lazy_update(0, 0, 7, 2, 3, 1)"
   ]
  },
  {
   "cell_type": "code",
   "execution_count": 22,
   "metadata": {},
   "outputs": [
    {
     "data": {
      "text/plain": [
       "1"
      ]
     },
     "execution_count": 22,
     "metadata": {},
     "output_type": "execute_result"
    }
   ],
   "source": [
    "lazy_range_minimum_query(0, 0, 7, 0, 3)"
   ]
  },
  {
   "cell_type": "markdown",
   "metadata": {},
   "source": [
    "### Resources:"
   ]
  },
  {
   "cell_type": "markdown",
   "metadata": {},
   "source": [
    "https://www.youtube.com/watch?v=xuoQdt5pHj0\n",
    "\n",
    "https://visualgo.net/en/segmenttree?slide=1\n",
    "\n",
    "https://leetcode.com/articles/a-recursive-approach-to-segment-trees-range-sum-queries-lazy-propagation/"
   ]
  }
 ],
 "metadata": {
  "kernelspec": {
   "display_name": "Python 3",
   "language": "python",
   "name": "python3"
  },
  "language_info": {
   "codemirror_mode": {
    "name": "ipython",
    "version": 3
   },
   "file_extension": ".py",
   "mimetype": "text/x-python",
   "name": "python",
   "nbconvert_exporter": "python",
   "pygments_lexer": "ipython3",
   "version": "3.8.5"
  }
 },
 "nbformat": 4,
 "nbformat_minor": 4
}
