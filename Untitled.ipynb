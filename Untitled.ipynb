{
 "cells": [
  {
   "cell_type": "code",
   "execution_count": 44,
   "metadata": {},
   "outputs": [],
   "source": [
    "# Karatsuba's algorithm:\n",
    "from math import log10\n",
    "\n",
    "def get_int_length(number):\n",
    "    return int(log10(number)) + 1 if number != 0 else 0\n",
    "\n",
    "\n",
    "def karatsuba_mul(x, y):\n",
    "    if x < 10 and y < 10:\n",
    "        return x * y    \n",
    "    \n",
    "    n = 10 ** (max(get_int_length(x), get_int_length(y)) // 2)\n",
    "    a, b = x // n, x % n\n",
    "    c, d = y // n, y % n    \n",
    "    ac = karatsuba_mul(a, c) \n",
    "    bd = karatsuba_mul(b, d)\n",
    "    q1 = karatsuba_mul(a + b, c + d) - ac - bd\n",
    "    \n",
    "    \n",
    "    return n * n * ac + n * q1 + bd\n",
    "    \n",
    "    \n",
    "    \n",
    "        "
   ]
  },
  {
   "cell_type": "code",
   "execution_count": 5,
   "metadata": {},
   "outputs": [],
   "source": [
    "\n",
    "def sort_and_count_inv(A):\n",
    "    if len(A) <= 1:\n",
    "        return A, 0\n",
    "    mid = len(A) // 2\n",
    "    B, x = sort_and_count_inv(A[:mid])\n",
    "    C, y = sort_and_count_inv(A[mid:])\n",
    "    D, z = count_split_inv(B, C)\n",
    "    return D, x + y + z\n",
    "\n",
    "def count_split_inv(B, C):\n",
    "    i = j =  0\n",
    "    count = 0\n",
    "    res = []\n",
    "    while i < len(B) and j < len(C):\n",
    "        if B[i] <= C[j]:\n",
    "            res.append(B[i])\n",
    "            i += 1\n",
    "        else:\n",
    "            res.append(C[j])\n",
    "            j += 1\n",
    "            count += len(B[i:])\n",
    "    if i < len(B):\n",
    "        res.extend(B[i:])\n",
    "    else:\n",
    "        res.extend(C[j:])\n",
    "    \n",
    "    return res, count\n",
    "            \n",
    "        \n",
    "    \n",
    "    \n"
   ]
  },
  {
   "cell_type": "code",
   "execution_count": 7,
   "metadata": {},
   "outputs": [
    {
     "name": "stdout",
     "output_type": "stream",
     "text": [
      "2407905288\n"
     ]
    }
   ],
   "source": [
    "with open('numbers.txt') as n:\n",
    "    print(sort_and_count_inv(list(map(lambda x: int(x), n.readlines())))[1])"
   ]
  },
  {
   "cell_type": "code",
   "execution_count": 45,
   "metadata": {
    "scrolled": true
   },
   "outputs": [
    {
     "data": {
      "text/plain": [
       "True"
      ]
     },
     "execution_count": 45,
     "metadata": {},
     "output_type": "execute_result"
    }
   ],
   "source": [
    "x = 3141592653589793238462643383279502884197169399375105820974944592\n",
    "\n",
    "\n",
    "y = 2718281828459045235360287471352662497757247093699959574966967627\n",
    "karatsuba_mul(x, y) == x * y"
   ]
  },
  {
   "cell_type": "code",
   "execution_count": 8,
   "metadata": {},
   "outputs": [],
   "source": [
    "def mergeSort(arr):\n",
    "    if  len(arr) > 1:    \n",
    "        m = len(arr) // 2\n",
    "        L = arr[:m]\n",
    "        R = arr[m:]\n",
    "        mergeSort(L)\n",
    "        mergeSort(R)\n",
    "        \n",
    "        i, j, k = 0, 0, 0\n",
    "        while True:\n",
    "            if L[i] < R[j]:\n",
    "                arr[k] = L[i]\n",
    "                i+=1\n",
    "            else:\n",
    "                arr[k] = R[j]\n",
    "                j+=1\n",
    "            k+=1\n",
    "            \n",
    "            if j < len(L):\n",
    "                arr[k: k + len(R) - j] = R[j:]\n",
    "                break\n",
    "            if j == len(R):\n",
    "                arr[k: k + len(L) - i] = L[i:]\n",
    "                break\n",
    "            "
   ]
  },
  {
   "cell_type": "code",
   "execution_count": 1,
   "metadata": {},
   "outputs": [],
   "source": [
    "import operator\n",
    "\n",
    "\n",
    "def merge(left, right, compare):\n",
    "    result = []\n",
    "    i, j = 0, 0\n",
    "    while i < len(left) and j < len(right):\n",
    "        if compare(left[i], right[j]):\n",
    "            result.append(left[i])\n",
    "            i += 1\n",
    "        else:\n",
    "            result.append(right[j])\n",
    "            j += 1\n",
    "    if i < len(left):\n",
    "        result.extend(left[i:])\n",
    "    else:\n",
    "        result.extend(right[j:])\n",
    "    return result\n",
    "\n",
    "\n",
    "def mergeSort(L, compare=operator.lt):\n",
    "    if len(L) < 2:\n",
    "        return L\n",
    "    else:\n",
    "        middle = int(len(L) / 2)\n",
    "        left = mergeSort(L[:middle], compare)\n",
    "        right = mergeSort(L[middle:], compare)\n",
    "        return merge(left, right, compare)"
   ]
  },
  {
   "cell_type": "code",
   "execution_count": 15,
   "metadata": {},
   "outputs": [],
   "source": [
    "from random import randint\n",
    "\n",
    "def quick_sort(arr, start, end):\n",
    "    if start >= end:\n",
    "        return 0\n",
    "    p_index = partition(arr, start, end)\n",
    "    cmp = end - start\n",
    "    cmp += quick_sort(arr, start, p_index - 1)\n",
    "    cmp += quick_sort(arr, p_index + 1, end)\n",
    "    return cmp\n",
    "    \n",
    "def randomized_partition(arr, start, end):\n",
    "    pivot = randint(start, end)\n",
    "    arr[pivot], arr[end] = arr[end], arr[pivot]\n",
    "    p_index = start\n",
    "    for i in range(start, end):\n",
    "        if arr[i] <= arr[end]:\n",
    "            arr[i], arr[p_index] = arr[p_index], arr[i]\n",
    "            p_index += 1\n",
    "    arr[end], arr[p_index] = arr[p_index], arr[end]\n",
    "    return p_index\n",
    " \n",
    "    \n",
    "def partition(arr, start, end):\n",
    "    p_index = start\n",
    "    for i in range(start, end):\n",
    "        if arr[i] <= arr[end]:\n",
    "            arr[i], arr[p_index] = arr[p_index], arr[i]\n",
    "            p_index += 1\n",
    "    arr[end], arr[p_index] = arr[p_index], arr[end]\n",
    "    return p_index\n",
    "       \n",
    "    "
   ]
  },
  {
   "cell_type": "code",
   "execution_count": null,
   "metadata": {},
   "outputs": [],
   "source": [
    "from random import randint\n",
    "\n",
    "def quick_sort(arr, start, end):\n",
    "    if start >= end:\n",
    "        return\n",
    "    pivot = randomized_partition(arr, start, end)\n",
    "    quick_sort(arr, start, pivot - 1)\n",
    "    quick_sort(arr, pivot + 1, end)\n",
    "    \n",
    "def randomized_partition(arr, start, end):\n",
    "    pivot = randint(start, end)\n",
    "    arr[end], arr[pivot] = arr[pivot], arr[end]\n",
    "    p_index = start\n",
    "    for j in range(start, end):\n",
    "        if arr[j] <= arr[end]:\n",
    "            arr[p_index], arr[j] = arr[j], arr[p_index]\n",
    "            p_index += 1 \n",
    "    arr[end], arr[p_index] = arr[p_index], arr[end]\n",
    "    return p_index\n",
    "    \n",
    "    "
   ]
  },
  {
   "cell_type": "code",
   "execution_count": 41,
   "metadata": {},
   "outputs": [],
   "source": [
    "def randomized_partition(arr, start, end):\n",
    "    middle = (end - start) // 2 + start\n",
    "    medians = [start ,middle, end]\n",
    "    medians.sort(key=lambda x: arr[x])\n",
    "    median = medians[1]\n",
    "    arr[median], arr[start] = arr[start], arr[median]\n",
    "    p_index = start + 1\n",
    "    for j in range(start + 1, end + 1):\n",
    "        if arr[j] <= arr[start]:\n",
    "            arr[j], arr[p_index] = arr[p_index], arr[j]\n",
    "            p_index += 1\n",
    "    arr[start], arr[p_index - 1] = arr[p_index - 1], arr[start] \n",
    "    return p_index - 1\n",
    "\n",
    "\n",
    "def quick_sort(arr, start, end):\n",
    "    if end <= start:\n",
    "        return 0\n",
    "    pivot = randomized_partition(arr, start, end)\n",
    "    comp = end - start\n",
    "    comp += quick_sort(arr, start, pivot - 1)\n",
    "    comp += quick_sort(arr, pivot + 1, end)\n",
    "    return comp\n",
    "    "
   ]
  },
  {
   "cell_type": "code",
   "execution_count": 32,
   "metadata": {},
   "outputs": [],
   "source": [
    "from pdb import set_trace\n",
    "\n",
    "def max_heapify(arr, index, size=len(arr)):\n",
    "    left = 2 * index + 1\n",
    "    right = 2 * index + 2\n",
    "    largest = index\n",
    "    if left < size and arr[largest] < arr[left]:\n",
    "        largest = left\n",
    "    if right < size and arr[largest] < arr[right]:\n",
    "        largest = right\n",
    "    if largest != index:\n",
    "        arr[largest], arr[index] = arr[index], arr[largest]\n",
    "        max_heapify(arr, largest, size)\n",
    "    \n",
    "\n",
    "        \n",
    "def build_max_heap(arr):\n",
    "    for i in range(len(arr)//2 - 1, -1, -1):\n",
    "        max_heapify(arr, index=i)\n",
    "        \n",
    "\n",
    "def heap_sort(arr):\n",
    "    build_max_heap(arr)\n",
    "    heap_size = len(arr)\n",
    "    while heap_size > 1:\n",
    "        arr[0], arr[heap_size - 1] = arr[heap_size - 1], arr[0]\n",
    "        heap_size -= 1\n",
    "        max_heapify(arr, 0, size=heap_size)\n",
    "        \n",
    "    \n",
    "    \n",
    "    \n",
    "    \n",
    "    \n",
    "    "
   ]
  },
  {
   "cell_type": "code",
   "execution_count": null,
   "metadata": {},
   "outputs": [],
   "source": [
    "def max_heapify_douwn(arr, h_size, i):\n",
    "    left_child = 2 * i + 1 if 2 * i + 1 < h_size else i\n",
    "    right_child = 2 * i + 2 if 2 * i + 2 < h_size else i\n",
    "    largest = left_child if arr[left_child] > arr[right_child] else right_child\n",
    "    if arr[largest] > arr[i]:\n",
    "        arr[largest], arr[i] = arr[i], arr[largest]\n",
    "        max_heapify_down(arr, h_size, largest)\n",
    "\n",
    "\n",
    "def max_heapify_up(arr, i):\n",
    "    parent = (i - 1) // 2 \n",
    "    while i > 0 and arr[parent] < arr[i]:\n",
    "        arr[i], arr[parent] = arr[parent], arr[i]\n",
    "        i = parent\n",
    "        parent = (i - 1) // 2\n",
    "        \n",
    "def build_max_heap(arr):\n",
    "    for i in range(len(arr)//2 - 1, -1, -1):\n",
    "        max_heapify_down(arr, len(arr), i)\n",
    "    \n",
    "\n",
    "def heap_sort(arr):\n",
    "    build_max_heap(arr)\n",
    "    h_size = len(arr)\n",
    "    while h_size > 1:\n",
    "        arr[0], arr[h_size] = arr[heap_size], arr[0]\n",
    "        h_size -= 1\n",
    "        max_heapify_down(arr, h_size, 0)\n",
    "        \n",
    "        \n",
    "\n",
    "\n",
    "        \n",
    "    \n",
    "        \n"
   ]
  },
  {
   "cell_type": "code",
   "execution_count": 25,
   "metadata": {},
   "outputs": [],
   "source": [
    "class HeapPriorityQueue:\n",
    "    def __init__(self, arr):\n",
    "        self.h_size, self.arr = 0, arr\n",
    "        \n",
    "    def insert(self):\n",
    "        if self.h_size >= len(self.arr):\n",
    "            raise IndexError('insert into full priority queue')\n",
    "        self.h_size += 1\n",
    "        self.max_heapify_up(self.h_size - 1)\n",
    "        \n",
    "    def max_heapify_up(self, i):\n",
    "        parent = (i-1) // 2\n",
    "        while i > 0 and self.arr[i] > self.arr[parent]:\n",
    "            self.arr[i], self.arr[parent] = self.arr[parent], self.arr[i]\n",
    "            i = parent\n",
    "            parent = (i-1) // 2\n",
    "            \n",
    "    def max_heapify_down(self, i):\n",
    "        left = 2 * i + 1 if 2 * i + 1 < self.h_size else i\n",
    "        right = 2 * i + 2 if 2 * i + 2 < self.h_size else i\n",
    "        largest = left if self.arr[left] > self.arr[right] else right\n",
    "        if self.arr[i] < self.arr[largest]:\n",
    "            self.arr[i], self.arr[largest] = self.arr[largest], self.arr[i]\n",
    "            self.max_heapify_down(largest)\n",
    "            \n",
    "    def extract_max(self):\n",
    "        if self.h_size <= 0:\n",
    "            raise Exception('try to pop from empty queue')\n",
    "        self.arr[0], self.arr[self.h_size-1] = self.arr[self.h_size-1], self.arr[0]\n",
    "        self.h_size -= 1\n",
    "        self.max_heapify_down(0)\n",
    "        return self.arr[self.h_size]\n",
    "        \n",
    "    def maximum(self):\n",
    "        return self.arr[self.h_size - 1]\n",
    "    \n",
    "    def increase_key(self, i, key):\n",
    "        if key < self.arr[i]:\n",
    "            raise Execption(\"new key less than the current\")\n",
    "        self.arr[i] = key\n",
    "        self.max_heapify_up(i)\n",
    "    \n",
    "    def sort(self):\n",
    "        for i in range(len(self.arr)):\n",
    "            self.insert()\n",
    "        for i in range(1, len(self.arr)):\n",
    "            print(self.extract_max())\n",
    "       "
   ]
  },
  {
   "cell_type": "code",
   "execution_count": 26,
   "metadata": {},
   "outputs": [
    {
     "name": "stdout",
     "output_type": "stream",
     "text": [
      "[22, 66, 18, 36, 60, 14, 33, 43, 84, 65]\n",
      "84\n",
      "66\n",
      "65\n",
      "60\n",
      "43\n",
      "36\n",
      "33\n",
      "22\n",
      "18\n",
      "14\n"
     ]
    },
    {
     "data": {
      "text/plain": [
       "[14, 18, 22, 33, 36, 43, 60, 65, 66, 84]"
      ]
     },
     "execution_count": 26,
     "metadata": {},
     "output_type": "execute_result"
    }
   ],
   "source": [
    "from random import randint\n",
    "\n",
    "arr = [randint(5, 100) for _ in range(10)]\n",
    "print(arr)\n",
    "pq = HeapPriorityQueue(arr)\n",
    "pq.sort()\n",
    "arr"
   ]
  },
  {
   "cell_type": "code",
   "execution_count": 7,
   "metadata": {},
   "outputs": [],
   "source": [
    "def insertion_sort(arr):\n",
    "    for i in range(len(arr)):\n",
    "        j = i - 1\n",
    "        val = arr[i]\n",
    "        while val < arr[j] and j >= 0:\n",
    "            arr[j + 1] = arr[j]\n",
    "            j -= 1\n",
    "        arr[j + 1] = val\n",
    "    "
   ]
  },
  {
   "cell_type": "code",
   "execution_count": null,
   "metadata": {},
   "outputs": [],
   "source": [
    "def count_inversions(arr):\n",
    "    if len(arr) <= 1:\n",
    "        return 0, arr\n",
    "    mid = len(arr) // 2\n",
    "    left_inv, left_arr = count_inversions(arr[:mid])\n",
    "    right_inv, right_arr = count_inversions(arr[mid:])\n",
    "    split_inv = count_split_inv(left_arr, right_arr)\n",
    "    return left_inv + right_inv + split_inv, \n",
    "\n",
    "def count_split_inv(left, right):\n",
    "    i = j = 0\n",
    "    split_inv = 0\n",
    "    while i < len(left) and j < len(right):\n",
    "        if left[i] <= right[j]:\n",
    "            i += 1\n",
    "        else:\n",
    "            split_inv += len(left[i:])\n",
    "            j+=1\n",
    "    return split_inv\n"
   ]
  },
  {
   "cell_type": "code",
   "execution_count": 34,
   "metadata": {},
   "outputs": [],
   "source": [
    "\n",
    "def Rselect(arr, start, end, i=0):\n",
    "    if start >= end:\n",
    "        return arr[start]\n",
    "    pivot = randomized_partition(arr, start, end)\n",
    "    if pivot == i:\n",
    "        return arr[pivot]\n",
    "    if pivot > i:\n",
    "        return Rselect(arr, start, pivot-1, i)\n",
    "    if pivot < i:\n",
    "        return Rselect(arr, pivot+1, end, i-pivot)\n",
    "\n",
    "        \n"
   ]
  },
  {
   "cell_type": "code",
   "execution_count": null,
   "metadata": {
    "scrolled": true
   },
   "outputs": [],
   "source": [
    "arr = [88,88,88,88,88,88,88,88,88,88,88,88,88,88,88,88,88,88,88,88,88,88,88,88,88,88,88,88,88,88,88,88,88,88,88,88,88,88,88,88,88,88,88,88,88,88,88,88,88,88,88,88,88,88,88,88,88,88,88,88,88,88,88,88,88,88,88,88,88,88,88,88,88,88,88,88,88,88,88,88,88,88,88,88,88,88,88,88,88,88,88,88,88,88,88,88,88,88,88,88,88,88,88,88,88,88,88,88,88,88,88,88,88,88,88,88,88,88,88,88,88,88,88,88,88,88,88,88,88,88,88,88,88,88,88,88,88,88,88,88,88,88,88,88,88,88,88,88,88,88,88,88,88,88,88,88,88,88,88,88,88,88,88,88,88,88,88,88,88,88,88,88,88,88,88,88,88,88,88,88,88,88,88,88,88,88,88,88,88,88,88,88,88,88,88,88,88,88,88,88,88,88,88,88,88,88,88,88,88,88,88,88,88,88,88,88,88,88,88,88,88,88,88,88,88,88,88,88,88,88,88,88,88,88,88,88,88,88,88,88,88,88,88,88,88,88,88,88,88,88,88,88,88,88,88,88,88,88,88,88,88,88,88,88,88,88,88,88,88,88,88,88,88,88,88,88,88,88,88,88,88,88,88,88,88,88,88,88,88,88,88,88,88,88,88,88,88,88,88,88,88,88,88,88,88,88,88,88,88,88,88,88,88,88,88,88,88,88,88,88,88,88,88,88,88,88,88,88,88,88,88,88,88,88,88,88,88,88,88,88,88,88,88,88,88,88,88,88,88,88,88,88,88,88,88,88,88,88,88,88,88,88,88,88,88,88,88,88,88,88,88,88,88,88,88,88,88,88,88,88,88,88,88,88,88,88,88,88,88,88,88,88,88,88,88,88,88,88,88,88,88,88,88,88,88,88,88,88,88,88,88,88,88,88,88,88,88,88,88,88,88,88,88,88,88,88,88,88,88,88,88,88,88,88,88,88,88,88,88,88,88,88,88,88,88,88,88,88,88,88,88,88,88,88,88,88,88,88,88,88,88,88,88,88,88,88,88,88,88,88,88,88,88,88,88,88,88,88,88,88,88,88,88,88,88,88,88,88,88,88,88,88,88,88,88,88,88,88,88,88,88,74,80,15,39,9,79,57,94,71,63,13,16,55,79,62,84,81,74,85,29,27,59,52,37,11,26,91,41,75,80,20,3,38,59,9,13,55,11,85,52,30,72,61,81,88,81,89,54,32,23,6,15,68,61,87,40,8,96,2,51,44,64,54,79,39,61,73,87,10,59,50,58,100,48,76,27,55,41,22,45,62,3,10,9,12,97,71,31,70,37,26,95,16,24,43,87,91,90,89,31,10,46,5,49,67,28,51,16,65,6,85,35,34,56,19,100,44,84,77,10,81,16,59,9,39,99,3,25,29,86,88,5,50,55,15,81,52,68,39,64,72,66,90,50,18,0,4,99,38,28,60,77,71,12,9,92,86,58,72,9,12,100,0,28,39,1,25,98,38,4,48,21,2,15,1,16,51,37,69,50,65,45,16,25,88,30,6,25,28,73,57,80,69,87,83,26,79,58,98,42,83,51,44,8,53,27,29,61,14,6,39,21,54,56,67,53,26,50,84,32,27,76,93,7,74,82,32,10,18,47,74,56,60,74,32,46,86,14,69,61,48,88,84,56,76,4,91,0,72,80,63,47,75,27,58,35,100,94,72,58,65,78,77,74,14,22,8,75,48,32,97,86,81,88,29,83,65,72,61,52,45,8,50,34,33,37,44,0,1,59,51,13,18,3,25,85,36,8,5,69,32,98,35,68,87,21,6,51,15,66,81,92,95,5,4,60,100,56,5,97,21,47,55,72,15,63,47,21,53,62,81,46,16,67,10,21,67,94,27,54,77,58,91,78,23,61,62,93,51,45,50,39,17,75,78,41,12,32,12,86,2,37,23,7,68,10,56,92,32,24,71,44,36,11,64,64,90,80,75,99,96,13,44,5,100,85,45,31,2,89,12,18,4,7,75,96,79,45,87,48,8,0,65,3,25,35,49,72,93,54,81,65,77,49,13,30,61,33,7,10,19,83,75,6,48,32,79,87,92,73,31,41,32,26,93,53,24,86,47,99,20,31,84,3,1,51,46,37,80,94,22,19,93,15,81,72,48,81,4,61,78,90,100,85,3,37,41,55,61,18,89,88,33,92,83,92,24,19,36,61,99,91,37,78,78,85,95,63,71,72,16,53,2,66,95,28,17,47,56]\n",
    "arr"
   ]
  },
  {
   "cell_type": "code",
   "execution_count": 38,
   "metadata": {
    "scrolled": true
   },
   "outputs": [
    {
     "data": {
      "text/plain": [
       "67"
      ]
     },
     "execution_count": 38,
     "metadata": {},
     "output_type": "execute_result"
    }
   ],
   "source": [
    "Rselect(arr, 0, len(arr)-1, 500)"
   ]
  },
  {
   "cell_type": "code",
   "execution_count": 33,
   "metadata": {},
   "outputs": [
    {
     "data": {
      "text/plain": [
       "88"
      ]
     },
     "execution_count": 33,
     "metadata": {},
     "output_type": "execute_result"
    }
   ],
   "source": [
    "sorted(arr)[500]"
   ]
  },
  {
   "cell_type": "code",
   "execution_count": 42,
   "metadata": {},
   "outputs": [
    {
     "name": "stdout",
     "output_type": "stream",
     "text": [
      "138382\n"
     ]
    }
   ],
   "source": [
    "with open('QuickSort.txt','r') as f:\n",
    "    arr = list(map(lambda x: int(x), f.readlines()))\n",
    "    \n",
    "print(quick_sort(arr, 0, len(arr)-1))\n"
   ]
  },
  {
   "cell_type": "code",
   "execution_count": 16,
   "metadata": {},
   "outputs": [
    {
     "data": {
      "text/plain": [
       "31"
      ]
     },
     "execution_count": 16,
     "metadata": {},
     "output_type": "execute_result"
    }
   ],
   "source": [
    "len(lis)"
   ]
  },
  {
   "cell_type": "code",
   "execution_count": 17,
   "metadata": {},
   "outputs": [
    {
     "data": {
      "text/plain": [
       "11.975806451612904"
      ]
     },
     "execution_count": 17,
     "metadata": {},
     "output_type": "execute_result"
    }
   ],
   "source": [
    "sum(lis)/len(lis)"
   ]
  },
  {
   "cell_type": "code",
   "execution_count": 11,
   "metadata": {},
   "outputs": [],
   "source": [
    "import numpy as np\n",
    "arr = np.array(lis)"
   ]
  },
  {
   "cell_type": "code",
   "execution_count": 12,
   "metadata": {},
   "outputs": [
    {
     "data": {
      "text/plain": [
       "12.801724137931034"
      ]
     },
     "execution_count": 12,
     "metadata": {},
     "output_type": "execute_result"
    }
   ],
   "source": [
    "arr.mean()"
   ]
  },
  {
   "cell_type": "code",
   "execution_count": 4,
   "metadata": {},
   "outputs": [],
   "source": [
    "x = [12.5 , 16 , 9.5 , 13.5 , 11 , 16.5 , 12 , 13 , 11 , 9 , 10 , 10 , 13 , 14 , 10.5 , 10 , 13 , 10.5 , 14 , 15 , 15 , 18 , 16 , 20 , 15.5 , 15 , 11 , 14] "
   ]
  },
  {
   "cell_type": "code",
   "execution_count": 5,
   "metadata": {},
   "outputs": [
    {
     "data": {
      "text/plain": [
       "28"
      ]
     },
     "execution_count": 5,
     "metadata": {},
     "output_type": "execute_result"
    }
   ],
   "source": [
    "len(x)"
   ]
  },
  {
   "cell_type": "code",
   "execution_count": 9,
   "metadata": {},
   "outputs": [
    {
     "data": {
      "text/plain": [
       "13.160714285714286"
      ]
     },
     "execution_count": 9,
     "metadata": {},
     "output_type": "execute_result"
    }
   ],
   "source": [
    "import numpy as np\n",
    "\n",
    "np.mean(x)"
   ]
  },
  {
   "cell_type": "code",
   "execution_count": 4,
   "metadata": {},
   "outputs": [
    {
     "data": {
      "text/plain": [
       "[0, 1, 2, 3, 4, 5, 6, 999]"
      ]
     },
     "execution_count": 4,
     "metadata": {},
     "output_type": "execute_result"
    }
   ],
   "source": [
    "list_ = list(range(7))\n",
    "def foo(list_):\n",
    "    return list_.append(999)\n",
    "\n",
    "list2 = foo(list_)\n",
    "list_"
   ]
  },
  {
   "cell_type": "code",
   "execution_count": 6,
   "metadata": {},
   "outputs": [
    {
     "name": "stdout",
     "output_type": "stream",
     "text": [
      "1453097136\n",
      "1453097168\n",
      "1453097200\n",
      "1453097232\n"
     ]
    }
   ],
   "source": [
    "list_ = [5, 6, 7, 8]\n",
    "for e in list_:\n",
    "    print(id(e))"
   ]
  },
  {
   "cell_type": "code",
   "execution_count": 8,
   "metadata": {},
   "outputs": [
    {
     "name": "stdout",
     "output_type": "stream",
     "text": [
      "1453097040\n",
      "2376767459272\n",
      "2376768199592\n",
      "1453097040\n",
      "2376767459272\n",
      "2376768199592\n"
     ]
    }
   ],
   "source": [
    "a = 2\n",
    "b = (5,6)\n",
    "c = {4}\n",
    "\n",
    "list_ = [a, b, c]\n",
    "print(id(a))\n",
    "print(id(b))\n",
    "print(id(c))\n",
    "\n",
    "for e in list_:\n",
    "    print(id(e))\n"
   ]
  },
  {
   "cell_type": "code",
   "execution_count": 9,
   "metadata": {},
   "outputs": [
    {
     "name": "stdout",
     "output_type": "stream",
     "text": [
      "1453097040\n",
      "2376742860616\n",
      "2376696898368\n"
     ]
    }
   ],
   "source": [
    "list_ = [2, {5,6}, 'h']\n",
    "for e in list_:\n",
    "    print(id(e))\n"
   ]
  },
  {
   "cell_type": "code",
   "execution_count": 10,
   "metadata": {},
   "outputs": [
    {
     "data": {
      "text/plain": [
       "True"
      ]
     },
     "execution_count": 10,
     "metadata": {},
     "output_type": "execute_result"
    }
   ],
   "source": [
    "a = 2\n",
    "b = (5,6)\n",
    "c = {4}\n",
    "\n",
    "list_ = [a, b, c]\n",
    "list_[0] is a"
   ]
  },
  {
   "cell_type": "code",
   "execution_count": null,
   "metadata": {},
   "outputs": [],
   "source": []
  }
 ],
 "metadata": {
  "kernelspec": {
   "display_name": "Python 3",
   "language": "python",
   "name": "python3"
  },
  "language_info": {
   "codemirror_mode": {
    "name": "ipython",
    "version": 3
   },
   "file_extension": ".py",
   "mimetype": "text/x-python",
   "name": "python",
   "nbconvert_exporter": "python",
   "pygments_lexer": "ipython3",
   "version": "3.8.3"
  }
 },
 "nbformat": 4,
 "nbformat_minor": 2
}
