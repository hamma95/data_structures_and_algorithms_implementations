{
 "cells": [
  {
   "cell_type": "code",
   "execution_count": null,
   "metadata": {},
   "outputs": [],
   "source": [
    "# Karatsuba's algorithm:\n",
    "from math import log10\n",
    "\n",
    "def get_int_length(number):\n",
    "    return int(log10(number)) + 1 if number != 0 else 0\n",
    "\n",
    "\n",
    "def karatsuba_mul(x, y):\n",
    "    if x < 10 and y < 10:\n",
    "        return x * y    \n",
    "    \n",
    "    n = 10 ** (max(get_int_length(x), get_int_length(y)) // 2)\n",
    "    a, b = x // n, x % n\n",
    "    c, d = y // n, y % n    \n",
    "    ac = karatsuba_mul(a, c) \n",
    "    bd = karatsuba_mul(b, d)\n",
    "    q1 = karatsuba_mul(a + b, c + d) - ac - bd\n",
    "    \n",
    "    \n",
    "    return n * n * ac + n * q1 + bd\n"
   ]
  }
 ],
 "metadata": {
  "kernelspec": {
   "display_name": "Python 3",
   "language": "python",
   "name": "python3"
  },
  "language_info": {
   "codemirror_mode": {
    "name": "ipython",
    "version": 3
   },
   "file_extension": ".py",
   "mimetype": "text/x-python",
   "name": "python",
   "nbconvert_exporter": "python",
   "pygments_lexer": "ipython3",
   "version": "3.8.3"
  }
 },
 "nbformat": 4,
 "nbformat_minor": 4
}
