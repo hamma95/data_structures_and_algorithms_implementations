{
 "cells": [
  {
   "cell_type": "code",
   "execution_count": 2,
   "metadata": {},
   "outputs": [],
   "source": [
    "import heapq\n",
    "from math import inf\n",
    "\n",
    "\n",
    "def dijkstra(adj, start, weights):\n",
    "    d = {node: 0 if node is start else inf for node in adj}\n",
    "    parent = {}\n",
    "    pq = [(0, start)]\n",
    "    visited = set()\n",
    "    while pq:\n",
    "        du, u = heapq.heappop(pq)\n",
    "        if u not in visited:\n",
    "            visited.add(u)\n",
    "            for v, weight in adj[u]:\n",
    "                if d[v] > du + weight:\n",
    "                    d[v] = du + weight\n",
    "                    parent[v] = u\n",
    "                    heapq.heappush(pq, (d[v], v))\n",
    "\n",
    "\n",
    "\n"
   ]
  },
  {
   "cell_type": "code",
   "execution_count": null,
   "metadata": {},
   "outputs": [],
   "source": []
  }
 ],
 "metadata": {
  "kernelspec": {
   "display_name": "Python 3",
   "language": "python",
   "name": "python3"
  },
  "language_info": {
   "codemirror_mode": {
    "name": "ipython",
    "version": 3
   },
   "file_extension": ".py",
   "mimetype": "text/x-python",
   "name": "python",
   "nbconvert_exporter": "python",
   "pygments_lexer": "ipython3",
   "version": "3.8.3"
  }
 },
 "nbformat": 4,
 "nbformat_minor": 4
}
