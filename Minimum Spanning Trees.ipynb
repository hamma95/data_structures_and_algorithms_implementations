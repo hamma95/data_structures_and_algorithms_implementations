{
 "cells": [
  {
   "cell_type": "markdown",
   "metadata": {},
   "source": [
    "A greedy approach of selecting the minimum weight edge that doesn't induce a cycle and adding it to the tree, actually works in computing a minimum spanning tree."
   ]
  },
  {
   "cell_type": "markdown",
   "metadata": {},
   "source": [
    "This algorithm can be implemented in ways so different that each got attributed to a different person: Prim's way insists that the next edge is connected to the tree you have started to grow, whereas Kruskal says to let it flower up, let the edges be chosen in parallel, disjointed trees, called forests, and to let the forests grow together."
   ]
  },
  {
   "cell_type": "markdown",
   "metadata": {},
   "source": [
    "### Prim's algorithm"
   ]
  },
  {
   "cell_type": "markdown",
   "metadata": {},
   "source": [
    "#### Adjacency list"
   ]
  },
  {
   "cell_type": "code",
   "execution_count": 3,
   "metadata": {},
   "outputs": [],
   "source": [
    "import heapq\n",
    "\n",
    "\n",
    "def PrimMst(adj, s):\n",
    "    parent = {s: None}\n",
    "    d = {s: 0}\n",
    "    pq = [(0, s)]\n",
    "    visited = set()\n",
    "    mst_cost = 0\n",
    "    while pq:\n",
    "        tree_dist, node = heapq.heappop(pq)\n",
    "        if node in visited: continue\n",
    "        visited.add(node)\n",
    "        mst_cost += 1\n",
    "        for v, weight in adj[node]:\n",
    "            if not d.get(v) or d[v] > weight:\n",
    "                d[v] = weight\n",
    "                parent[v] = node\n",
    "                heapq.heappush(pq, (d[v], v))\n",
    "\n",
    "    return parent, mst_cost\n"
   ]
  },
  {
   "cell_type": "markdown",
   "metadata": {},
   "source": [
    "#### Adjacency matrix"
   ]
  },
  {
   "cell_type": "code",
   "execution_count": 6,
   "metadata": {},
   "outputs": [],
   "source": [
    "from math import inf\n",
    "\n",
    "def PrimMst(adj, s):\n",
    "    parent = {s: None}\n",
    "    d = {s: 0}\n",
    "    visited = set()\n",
    "    \n",
    "    \n",
    "    while True:\n",
    "        min_node, min_weight = None, inf\n",
    "        \n",
    "        for node, weight in d.items():\n",
    "            if node not in visited and weight < min_weight:\n",
    "                min_node, min_weight = node, weight\n",
    "        \n",
    "        if not min_node: break\n",
    "            \n",
    "        visited.add(min_node)\n",
    "        for v, weight in enumerate(adj[min_node]):\n",
    "            if v != min_node and d[v] > weight:\n",
    "                d[v] = weight\n",
    "                parent[v] = min_node\n",
    "    \n",
    "        \n",
    "        "
   ]
  },
  {
   "cell_type": "markdown",
   "metadata": {},
   "source": [
    "### Kruskal's algorithm"
   ]
  },
  {
   "cell_type": "markdown",
   "metadata": {},
   "source": [
    "\n",
    "#### Union find \n",
    "\n",
    "https://en.wikipedia.org/wiki/Disjoint-set_data_structure#Operations"
   ]
  },
  {
   "cell_type": "code",
   "execution_count": 5,
   "metadata": {},
   "outputs": [],
   "source": [
    "from typing import List\n",
    "\n",
    "\n",
    "class UnionFind:\n",
    "\n",
    "    def __init__(self, sets: List[int]):\n",
    "        self.parent = {element: element for element in sets}\n",
    "        self._size = {element: 1 for element in sets}\n",
    "        self.count = len(sets)\n",
    "\n",
    "    def union(self, x: int, y: int) -> None:\n",
    "\n",
    "        root1, root2 = self.find(x), self.find(y)\n",
    "        if root1 == root2:\n",
    "            return\n",
    "\n",
    "        if self._size[root1] >= self._size[root2]:\n",
    "            self.parent[root2] = root1\n",
    "            self._size[root1] += self._size[root2]\n",
    "        else:\n",
    "            self.parent[root1] = root2\n",
    "            self._size[root2] += self._size[root1]\n",
    "\n",
    "        self.count -= 1\n",
    "\n",
    "    def find(self, element: int) -> int:\n",
    "        while element != self.parent[element]:\n",
    "            self.parent[element] = self.parent[self.parent[element]]\n",
    "            element = self.parent[element]\n",
    "\n",
    "        return element\n",
    " "
   ]
  },
  {
   "cell_type": "markdown",
   "metadata": {},
   "source": [
    "#### Kruskal's Algorithm"
   ]
  },
  {
   "cell_type": "code",
   "execution_count": 6,
   "metadata": {},
   "outputs": [],
   "source": [
    "def kruskal_mst(nodes, edges):\n",
    "    uf = UnionFind(nodes)\n",
    "    cost = 0\n",
    "    edges.sort(key=lambda edge: edge[2])\n",
    "    for node1, node2, weight in edges:\n",
    "        if uf.find(node1) != uf.find(node2):\n",
    "            uf.union(node1, node2)\n",
    "            cost += weight\n",
    "    return uf.parent, cost\n",
    "        \n",
    "        \n",
    "        "
   ]
  },
  {
   "cell_type": "code",
   "execution_count": null,
   "metadata": {},
   "outputs": [],
   "source": []
  }
 ],
 "metadata": {
  "kernelspec": {
   "display_name": "Python 3",
   "language": "python",
   "name": "python3"
  },
  "language_info": {
   "codemirror_mode": {
    "name": "ipython",
    "version": 3
   },
   "file_extension": ".py",
   "mimetype": "text/x-python",
   "name": "python",
   "nbconvert_exporter": "python",
   "pygments_lexer": "ipython3",
   "version": "3.8.5"
  }
 },
 "nbformat": 4,
 "nbformat_minor": 4
}
