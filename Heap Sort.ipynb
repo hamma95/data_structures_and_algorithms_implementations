{
 "cells": [
  {
   "cell_type": "code",
   "execution_count": 1,
   "metadata": {},
   "outputs": [],
   "source": [
    "def max_heapify_douwn(arr, h_size, i):\n",
    "    left_child = 2 * i + 1 if 2 * i + 1 < h_size else i\n",
    "    right_child = 2 * i + 2 if 2 * i + 2 < h_size else i\n",
    "    largest = left_child if arr[left_child] > arr[right_child] else right_child\n",
    "    if arr[largest] > arr[i]:\n",
    "        arr[largest], arr[i] = arr[i], arr[largest]\n",
    "        max_heapify_down(arr, h_size, largest)\n",
    "\n",
    "\n",
    "def max_heapify_up(arr, i):\n",
    "    parent = (i - 1) // 2 \n",
    "    while i > 0 and arr[parent] < arr[i]:\n",
    "        arr[i], arr[parent] = arr[parent], arr[i]\n",
    "        i = parent\n",
    "        parent = (i - 1) // 2\n",
    "        \n",
    "def build_max_heap(arr):\n",
    "    for i in range(len(arr)//2 - 1, -1, -1):\n",
    "        max_heapify_down(arr, len(arr), i)\n",
    "    \n",
    "\n",
    "def heap_sort(arr):\n",
    "    build_max_heap(arr)\n",
    "    h_size = len(arr)\n",
    "    while h_size > 1:\n",
    "        arr[0], arr[h_size] = arr[], arr[0]\n",
    "        h_size -= 1\n",
    "        max_heapify_down(arr, h_size, 0)"
   ]
  },
  {
   "cell_type": "code",
   "execution_count": null,
   "metadata": {},
   "outputs": [],
   "source": []
  }
 ],
 "metadata": {
  "kernelspec": {
   "display_name": "Python 3",
   "language": "python",
   "name": "python3"
  },
  "language_info": {
   "codemirror_mode": {
    "name": "ipython",
    "version": 3
   },
   "file_extension": ".py",
   "mimetype": "text/x-python",
   "name": "python",
   "nbconvert_exporter": "python",
   "pygments_lexer": "ipython3",
   "version": "3.8.5"
  }
 },
 "nbformat": 4,
 "nbformat_minor": 4
}
