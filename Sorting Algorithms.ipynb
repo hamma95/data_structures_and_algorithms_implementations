{
 "cells": [
  {
   "cell_type": "code",
   "execution_count": 1,
   "metadata": {},
   "outputs": [],
   "source": [
    "def insertion_sort(arr):\n",
    "    for i in range(len(arr)):\n",
    "        j = i - 1\n",
    "        val = arr[i]\n",
    "        while val < arr[j] and j >= 0:\n",
    "            arr[j + 1] = arr[j]\n",
    "            j -= 1\n",
    "        arr[j + 1] = val\n",
    "    "
   ]
  },
  {
   "cell_type": "code",
   "execution_count": null,
   "metadata": {},
   "outputs": [],
   "source": [
    "import operator\n",
    "\n",
    "\n",
    "def merge(left, right, compare):\n",
    "    result = []\n",
    "    i, j = 0, 0\n",
    "    while i < len(left) and j < len(right):\n",
    "        if compare(left[i], right[j]):\n",
    "            result.append(left[i])\n",
    "            i += 1\n",
    "        else:\n",
    "            result.append(right[j])\n",
    "            j += 1\n",
    "    if i < len(left):\n",
    "        result.extend(left[i:])\n",
    "    else:\n",
    "        result.extend(right[j:])\n",
    "    return result\n",
    "\n",
    "\n",
    "def mergeSort(L, compare=operator.lt):\n",
    "    if len(L) < 2:\n",
    "        return L\n",
    "    else:\n",
    "        middle = int(len(L) / 2)\n",
    "        left = mergeSort(L[:middle], compare)\n",
    "        right = mergeSort(L[middle:], compare)\n",
    "        return merge(left, right, compare)"
   ]
  }
 ],
 "metadata": {
  "kernelspec": {
   "display_name": "Python 3",
   "language": "python",
   "name": "python3"
  },
  "language_info": {
   "codemirror_mode": {
    "name": "ipython",
    "version": 3
   },
   "file_extension": ".py",
   "mimetype": "text/x-python",
   "name": "python",
   "nbconvert_exporter": "python",
   "pygments_lexer": "ipython3",
   "version": "3.8.3"
  }
 },
 "nbformat": 4,
 "nbformat_minor": 4
}
